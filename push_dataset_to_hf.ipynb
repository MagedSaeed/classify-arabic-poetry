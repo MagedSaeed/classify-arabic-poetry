{
 "cells": [
  {
   "cell_type": "code",
   "execution_count": 1,
   "metadata": {},
   "outputs": [],
   "source": [
    "import datasets"
   ]
  },
  {
   "cell_type": "code",
   "execution_count": 2,
   "metadata": {},
   "outputs": [
    {
     "data": {
      "text/plain": [
       "DatasetDict({\n",
       "    train: Dataset({\n",
       "        features: ['العصر', 'الشاعر', 'الديوان', 'القافية', 'البحر', 'الشطر الايسر', 'الشطر الايمن', 'البيت'],\n",
       "        num_rows: 1493086\n",
       "    })\n",
       "    test: Dataset({\n",
       "        features: ['العصر', 'الشاعر', 'الديوان', 'القافية', 'البحر', 'الشطر الايسر', 'الشطر الايمن', 'البيت'],\n",
       "        num_rows: 163917\n",
       "    })\n",
       "})"
      ]
     },
     "execution_count": 2,
     "metadata": {},
     "output_type": "execute_result"
    }
   ],
   "source": [
    "dataset = datasets.load_dataset(\n",
    "    'csv',\n",
    "    data_files={\n",
    "        'train': '/workspaces/classify-arabic-poetry/APCD_plus_porse_train.csv',\n",
    "        'test':'/workspaces/classify-arabic-poetry/APCD_plus_porse_test.csv',\n",
    "    }\n",
    ")\n",
    "dataset"
   ]
  },
  {
   "cell_type": "code",
   "execution_count": 3,
   "metadata": {},
   "outputs": [],
   "source": [
    "arabic_to_english = {\n",
    "    'العصر': 'era',\n",
    "    'الشاعر': 'poet',\n",
    "    'الديوان': 'collection',\n",
    "    'القافية': 'rhyme',\n",
    "    'البحر': 'meter',\n",
    "    'الشطر الايسر': 'left_hemistich',\n",
    "    'الشطر الايمن': 'right_hemistich',\n",
    "    'البيت': 'verse'\n",
    "}\n",
    "\n",
    "# Rename columns in both train and test splits\n",
    "for split in dataset.keys():\n",
    "    for arabic_name, english_name in arabic_to_english.items():\n",
    "        dataset[split] = dataset[split].rename_column(arabic_name, english_name)"
   ]
  },
  {
   "cell_type": "code",
   "execution_count": 5,
   "metadata": {},
   "outputs": [
    {
     "data": {
      "application/vnd.jupyter.widget-view+json": {
       "model_id": "db782b06745442f48ee109a58b88b088",
       "version_major": 2,
       "version_minor": 0
      },
      "text/plain": [
       "VBox(children=(HTML(value='<center> <img\\nsrc=https://huggingface.co/front/assets/huggingface_logo-noborder.sv…"
      ]
     },
     "metadata": {},
     "output_type": "display_data"
    }
   ],
   "source": [
    "from huggingface_hub import notebook_login\n",
    "notebook_login()"
   ]
  },
  {
   "cell_type": "code",
   "execution_count": 7,
   "metadata": {},
   "outputs": [
    {
     "data": {
      "application/vnd.jupyter.widget-view+json": {
       "model_id": "49d8f88f299e4787b0e734d07dcb8b09",
       "version_major": 2,
       "version_minor": 0
      },
      "text/plain": [
       "Uploading the dataset shards:   0%|          | 0/1 [00:00<?, ?it/s]"
      ]
     },
     "metadata": {},
     "output_type": "display_data"
    },
    {
     "data": {
      "application/vnd.jupyter.widget-view+json": {
       "model_id": "aaace311555540fc9374688f84b657e0",
       "version_major": 2,
       "version_minor": 0
      },
      "text/plain": [
       "Creating parquet from Arrow format:   0%|          | 0/1494 [00:00<?, ?ba/s]"
      ]
     },
     "metadata": {},
     "output_type": "display_data"
    },
    {
     "data": {
      "application/vnd.jupyter.widget-view+json": {
       "model_id": "3eefe0728053487abdcaa16b09acdfc3",
       "version_major": 2,
       "version_minor": 0
      },
      "text/plain": [
       "Uploading the dataset shards:   0%|          | 0/1 [00:00<?, ?it/s]"
      ]
     },
     "metadata": {},
     "output_type": "display_data"
    },
    {
     "data": {
      "application/vnd.jupyter.widget-view+json": {
       "model_id": "ead5d22ca7f445f48707848e61e254e6",
       "version_major": 2,
       "version_minor": 0
      },
      "text/plain": [
       "Creating parquet from Arrow format:   0%|          | 0/164 [00:00<?, ?ba/s]"
      ]
     },
     "metadata": {},
     "output_type": "display_data"
    },
    {
     "data": {
      "text/plain": [
       "CommitInfo(commit_url='https://huggingface.co/datasets/MagedSaeed/APCD_Plus/commit/af6189bfd4c2b03fb9109d79b6d0b11b5543782e', commit_message='Upload dataset', commit_description='', oid='af6189bfd4c2b03fb9109d79b6d0b11b5543782e', pr_url=None, repo_url=RepoUrl('https://huggingface.co/datasets/MagedSaeed/APCD_Plus', endpoint='https://huggingface.co', repo_type='dataset', repo_id='MagedSaeed/APCD_Plus'), pr_revision=None, pr_num=None)"
      ]
     },
     "execution_count": 7,
     "metadata": {},
     "output_type": "execute_result"
    }
   ],
   "source": [
    "dataset.push_to_hub(repo_id='APCD_Plus')"
   ]
  }
 ],
 "metadata": {
  "kernelspec": {
   "display_name": "Python 3",
   "language": "python",
   "name": "python3"
  },
  "language_info": {
   "codemirror_mode": {
    "name": "ipython",
    "version": 3
   },
   "file_extension": ".py",
   "mimetype": "text/x-python",
   "name": "python",
   "nbconvert_exporter": "python",
   "pygments_lexer": "ipython3",
   "version": "3.12.1"
  }
 },
 "nbformat": 4,
 "nbformat_minor": 2
}
